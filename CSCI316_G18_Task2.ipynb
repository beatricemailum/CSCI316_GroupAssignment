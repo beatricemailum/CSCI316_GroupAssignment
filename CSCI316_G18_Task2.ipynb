{
 "cells": [
  {
   "cell_type": "markdown",
   "id": "ea208112",
   "metadata": {},
   "source": [
    "# CSCI316 Group Assignment 1\n",
    "# Task 2\n",
    "# Group: G18\n",
    "\n",
    "# Name and Student ID:\n",
    "Francisco Justin Charles Salado 8535255\n",
    "Beatrice Romero Mailum 8550724\n",
    "Foo Kai Hang 8218511\n",
    "Xavier Low Jie Le 8222733\n",
    "Lai Ming Song 8576440\n",
    "\n"
   ]
  },
  {
   "cell_type": "code",
   "execution_count": 1,
   "id": "bfaaf895",
   "metadata": {},
   "outputs": [
    {
     "name": "stdout",
     "output_type": "stream",
     "text": [
      "Requirement already satisfied: pandas in c:\\users\\belei\\appdata\\local\\programs\\python\\python311\\lib\\site-packages (2.3.1)\n",
      "Requirement already satisfied: numpy in c:\\users\\belei\\appdata\\local\\programs\\python\\python311\\lib\\site-packages (2.3.2)\n",
      "Requirement already satisfied: matplotlib in c:\\users\\belei\\appdata\\local\\programs\\python\\python311\\lib\\site-packages (3.10.5)\n",
      "Requirement already satisfied: seaborn in c:\\users\\belei\\appdata\\local\\programs\\python\\python311\\lib\\site-packages (0.13.2)\n",
      "Requirement already satisfied: pyspark==3.5.1 in c:\\users\\belei\\appdata\\local\\programs\\python\\python311\\lib\\site-packages (3.5.1)\n",
      "Requirement already satisfied: scikit-learn in c:\\users\\belei\\appdata\\local\\programs\\python\\python311\\lib\\site-packages (1.7.1)\n",
      "Requirement already satisfied: jupyter in c:\\users\\belei\\appdata\\local\\programs\\python\\python311\\lib\\site-packages (1.1.1)\n",
      "Requirement already satisfied: py4j==0.10.9.7 in c:\\users\\belei\\appdata\\local\\programs\\python\\python311\\lib\\site-packages (from pyspark==3.5.1) (0.10.9.7)\n",
      "Requirement already satisfied: python-dateutil>=2.8.2 in c:\\users\\belei\\appdata\\roaming\\python\\python311\\site-packages (from pandas) (2.9.0.post0)\n",
      "Requirement already satisfied: pytz>=2020.1 in c:\\users\\belei\\appdata\\local\\programs\\python\\python311\\lib\\site-packages (from pandas) (2025.2)\n",
      "Requirement already satisfied: tzdata>=2022.7 in c:\\users\\belei\\appdata\\local\\programs\\python\\python311\\lib\\site-packages (from pandas) (2025.2)\n",
      "Requirement already satisfied: contourpy>=1.0.1 in c:\\users\\belei\\appdata\\local\\programs\\python\\python311\\lib\\site-packages (from matplotlib) (1.3.3)\n",
      "Requirement already satisfied: cycler>=0.10 in c:\\users\\belei\\appdata\\local\\programs\\python\\python311\\lib\\site-packages (from matplotlib) (0.12.1)\n",
      "Requirement already satisfied: fonttools>=4.22.0 in c:\\users\\belei\\appdata\\local\\programs\\python\\python311\\lib\\site-packages (from matplotlib) (4.59.1)\n",
      "Requirement already satisfied: kiwisolver>=1.3.1 in c:\\users\\belei\\appdata\\local\\programs\\python\\python311\\lib\\site-packages (from matplotlib) (1.4.9)\n",
      "Requirement already satisfied: packaging>=20.0 in c:\\users\\belei\\appdata\\roaming\\python\\python311\\site-packages (from matplotlib) (25.0)\n",
      "Requirement already satisfied: pillow>=8 in c:\\users\\belei\\appdata\\local\\programs\\python\\python311\\lib\\site-packages (from matplotlib) (11.3.0)\n",
      "Requirement already satisfied: pyparsing>=2.3.1 in c:\\users\\belei\\appdata\\local\\programs\\python\\python311\\lib\\site-packages (from matplotlib) (3.2.3)\n",
      "Requirement already satisfied: scipy>=1.8.0 in c:\\users\\belei\\appdata\\local\\programs\\python\\python311\\lib\\site-packages (from scikit-learn) (1.16.1)\n",
      "Requirement already satisfied: joblib>=1.2.0 in c:\\users\\belei\\appdata\\local\\programs\\python\\python311\\lib\\site-packages (from scikit-learn) (1.5.1)\n",
      "Requirement already satisfied: threadpoolctl>=3.1.0 in c:\\users\\belei\\appdata\\local\\programs\\python\\python311\\lib\\site-packages (from scikit-learn) (3.6.0)\n",
      "Requirement already satisfied: notebook in c:\\users\\belei\\appdata\\local\\programs\\python\\python311\\lib\\site-packages (from jupyter) (7.4.5)\n",
      "Requirement already satisfied: jupyter-console in c:\\users\\belei\\appdata\\local\\programs\\python\\python311\\lib\\site-packages (from jupyter) (6.6.3)\n",
      "Requirement already satisfied: nbconvert in c:\\users\\belei\\appdata\\local\\programs\\python\\python311\\lib\\site-packages (from jupyter) (7.16.6)\n",
      "Requirement already satisfied: ipykernel in c:\\users\\belei\\appdata\\roaming\\python\\python311\\site-packages (from jupyter) (6.30.1)\n",
      "Requirement already satisfied: ipywidgets in c:\\users\\belei\\appdata\\local\\programs\\python\\python311\\lib\\site-packages (from jupyter) (8.1.7)\n",
      "Requirement already satisfied: jupyterlab in c:\\users\\belei\\appdata\\local\\programs\\python\\python311\\lib\\site-packages (from jupyter) (4.4.6)\n",
      "Requirement already satisfied: six>=1.5 in c:\\users\\belei\\appdata\\roaming\\python\\python311\\site-packages (from python-dateutil>=2.8.2->pandas) (1.17.0)\n",
      "Requirement already satisfied: comm>=0.1.1 in c:\\users\\belei\\appdata\\roaming\\python\\python311\\site-packages (from ipykernel->jupyter) (0.2.3)\n",
      "Requirement already satisfied: debugpy>=1.6.5 in c:\\users\\belei\\appdata\\roaming\\python\\python311\\site-packages (from ipykernel->jupyter) (1.8.16)\n",
      "Requirement already satisfied: ipython>=7.23.1 in c:\\users\\belei\\appdata\\roaming\\python\\python311\\site-packages (from ipykernel->jupyter) (9.4.0)\n",
      "Requirement already satisfied: jupyter-client>=8.0.0 in c:\\users\\belei\\appdata\\roaming\\python\\python311\\site-packages (from ipykernel->jupyter) (8.6.3)\n",
      "Requirement already satisfied: jupyter-core!=5.0.*,>=4.12 in c:\\users\\belei\\appdata\\roaming\\python\\python311\\site-packages (from ipykernel->jupyter) (5.8.1)\n",
      "Requirement already satisfied: matplotlib-inline>=0.1 in c:\\users\\belei\\appdata\\roaming\\python\\python311\\site-packages (from ipykernel->jupyter) (0.1.7)\n",
      "Requirement already satisfied: nest-asyncio>=1.4 in c:\\users\\belei\\appdata\\roaming\\python\\python311\\site-packages (from ipykernel->jupyter) (1.6.0)\n",
      "Requirement already satisfied: psutil>=5.7 in c:\\users\\belei\\appdata\\roaming\\python\\python311\\site-packages (from ipykernel->jupyter) (7.0.0)\n",
      "Requirement already satisfied: pyzmq>=25 in c:\\users\\belei\\appdata\\roaming\\python\\python311\\site-packages (from ipykernel->jupyter) (27.0.1)\n",
      "Requirement already satisfied: tornado>=6.2 in c:\\users\\belei\\appdata\\roaming\\python\\python311\\site-packages (from ipykernel->jupyter) (6.5.2)\n",
      "Requirement already satisfied: traitlets>=5.4.0 in c:\\users\\belei\\appdata\\roaming\\python\\python311\\site-packages (from ipykernel->jupyter) (5.14.3)\n",
      "Requirement already satisfied: widgetsnbextension~=4.0.14 in c:\\users\\belei\\appdata\\local\\programs\\python\\python311\\lib\\site-packages (from ipywidgets->jupyter) (4.0.14)\n",
      "Requirement already satisfied: jupyterlab_widgets~=3.0.15 in c:\\users\\belei\\appdata\\local\\programs\\python\\python311\\lib\\site-packages (from ipywidgets->jupyter) (3.0.15)\n",
      "Requirement already satisfied: prompt-toolkit>=3.0.30 in c:\\users\\belei\\appdata\\roaming\\python\\python311\\site-packages (from jupyter-console->jupyter) (3.0.51)\n",
      "Requirement already satisfied: pygments in c:\\users\\belei\\appdata\\roaming\\python\\python311\\site-packages (from jupyter-console->jupyter) (2.19.2)\n",
      "Requirement already satisfied: async-lru>=1.0.0 in c:\\users\\belei\\appdata\\local\\programs\\python\\python311\\lib\\site-packages (from jupyterlab->jupyter) (2.0.5)\n",
      "Requirement already satisfied: httpx<1,>=0.25.0 in c:\\users\\belei\\appdata\\local\\programs\\python\\python311\\lib\\site-packages (from jupyterlab->jupyter) (0.28.1)\n",
      "Requirement already satisfied: jinja2>=3.0.3 in c:\\users\\belei\\appdata\\local\\programs\\python\\python311\\lib\\site-packages (from jupyterlab->jupyter) (3.1.6)\n",
      "Requirement already satisfied: jupyter-lsp>=2.0.0 in c:\\users\\belei\\appdata\\local\\programs\\python\\python311\\lib\\site-packages (from jupyterlab->jupyter) (2.2.6)\n",
      "Requirement already satisfied: jupyter-server<3,>=2.4.0 in c:\\users\\belei\\appdata\\local\\programs\\python\\python311\\lib\\site-packages (from jupyterlab->jupyter) (2.16.0)\n",
      "Requirement already satisfied: jupyterlab-server<3,>=2.27.1 in c:\\users\\belei\\appdata\\local\\programs\\python\\python311\\lib\\site-packages (from jupyterlab->jupyter) (2.27.3)\n",
      "Requirement already satisfied: notebook-shim>=0.2 in c:\\users\\belei\\appdata\\local\\programs\\python\\python311\\lib\\site-packages (from jupyterlab->jupyter) (0.2.4)\n",
      "Requirement already satisfied: setuptools>=41.1.0 in c:\\users\\belei\\appdata\\local\\programs\\python\\python311\\lib\\site-packages (from jupyterlab->jupyter) (65.5.0)\n",
      "Requirement already satisfied: beautifulsoup4 in c:\\users\\belei\\appdata\\local\\programs\\python\\python311\\lib\\site-packages (from nbconvert->jupyter) (4.13.4)\n",
      "Requirement already satisfied: bleach!=5.0.0 in c:\\users\\belei\\appdata\\local\\programs\\python\\python311\\lib\\site-packages (from bleach[css]!=5.0.0->nbconvert->jupyter) (6.2.0)\n",
      "Requirement already satisfied: defusedxml in c:\\users\\belei\\appdata\\local\\programs\\python\\python311\\lib\\site-packages (from nbconvert->jupyter) (0.7.1)\n",
      "Requirement already satisfied: jupyterlab-pygments in c:\\users\\belei\\appdata\\local\\programs\\python\\python311\\lib\\site-packages (from nbconvert->jupyter) (0.3.0)\n",
      "Requirement already satisfied: markupsafe>=2.0 in c:\\users\\belei\\appdata\\local\\programs\\python\\python311\\lib\\site-packages (from nbconvert->jupyter) (3.0.2)\n",
      "Requirement already satisfied: mistune<4,>=2.0.3 in c:\\users\\belei\\appdata\\local\\programs\\python\\python311\\lib\\site-packages (from nbconvert->jupyter) (3.1.3)\n",
      "Requirement already satisfied: nbclient>=0.5.0 in c:\\users\\belei\\appdata\\local\\programs\\python\\python311\\lib\\site-packages (from nbconvert->jupyter) (0.10.2)\n",
      "Requirement already satisfied: nbformat>=5.7 in c:\\users\\belei\\appdata\\local\\programs\\python\\python311\\lib\\site-packages (from nbconvert->jupyter) (5.10.4)\n",
      "Requirement already satisfied: pandocfilters>=1.4.1 in c:\\users\\belei\\appdata\\local\\programs\\python\\python311\\lib\\site-packages (from nbconvert->jupyter) (1.5.1)\n",
      "Requirement already satisfied: webencodings in c:\\users\\belei\\appdata\\local\\programs\\python\\python311\\lib\\site-packages (from bleach!=5.0.0->bleach[css]!=5.0.0->nbconvert->jupyter) (0.5.1)\n",
      "Requirement already satisfied: tinycss2<1.5,>=1.1.0 in c:\\users\\belei\\appdata\\local\\programs\\python\\python311\\lib\\site-packages (from bleach[css]!=5.0.0->nbconvert->jupyter) (1.4.0)\n",
      "Requirement already satisfied: anyio in c:\\users\\belei\\appdata\\local\\programs\\python\\python311\\lib\\site-packages (from httpx<1,>=0.25.0->jupyterlab->jupyter) (4.10.0)\n",
      "Requirement already satisfied: certifi in c:\\users\\belei\\appdata\\local\\programs\\python\\python311\\lib\\site-packages (from httpx<1,>=0.25.0->jupyterlab->jupyter) (2025.8.3)\n",
      "Requirement already satisfied: httpcore==1.* in c:\\users\\belei\\appdata\\local\\programs\\python\\python311\\lib\\site-packages (from httpx<1,>=0.25.0->jupyterlab->jupyter) (1.0.9)\n",
      "Requirement already satisfied: idna in c:\\users\\belei\\appdata\\local\\programs\\python\\python311\\lib\\site-packages (from httpx<1,>=0.25.0->jupyterlab->jupyter) (3.10)\n",
      "Requirement already satisfied: h11>=0.16 in c:\\users\\belei\\appdata\\local\\programs\\python\\python311\\lib\\site-packages (from httpcore==1.*->httpx<1,>=0.25.0->jupyterlab->jupyter) (0.16.0)\n",
      "Requirement already satisfied: colorama in c:\\users\\belei\\appdata\\roaming\\python\\python311\\site-packages (from ipython>=7.23.1->ipykernel->jupyter) (0.4.6)\n",
      "Requirement already satisfied: decorator in c:\\users\\belei\\appdata\\roaming\\python\\python311\\site-packages (from ipython>=7.23.1->ipykernel->jupyter) (5.2.1)\n",
      "Requirement already satisfied: ipython-pygments-lexers in c:\\users\\belei\\appdata\\roaming\\python\\python311\\site-packages (from ipython>=7.23.1->ipykernel->jupyter) (1.1.1)\n",
      "Requirement already satisfied: jedi>=0.16 in c:\\users\\belei\\appdata\\roaming\\python\\python311\\site-packages (from ipython>=7.23.1->ipykernel->jupyter) (0.19.2)\n",
      "Requirement already satisfied: stack_data in c:\\users\\belei\\appdata\\roaming\\python\\python311\\site-packages (from ipython>=7.23.1->ipykernel->jupyter) (0.6.3)\n",
      "Requirement already satisfied: typing_extensions>=4.6 in c:\\users\\belei\\appdata\\roaming\\python\\python311\\site-packages (from ipython>=7.23.1->ipykernel->jupyter) (4.14.1)\n",
      "Requirement already satisfied: platformdirs>=2.5 in c:\\users\\belei\\appdata\\roaming\\python\\python311\\site-packages (from jupyter-core!=5.0.*,>=4.12->ipykernel->jupyter) (4.3.8)\n",
      "Requirement already satisfied: pywin32>=300 in c:\\users\\belei\\appdata\\roaming\\python\\python311\\site-packages (from jupyter-core!=5.0.*,>=4.12->ipykernel->jupyter) (311)\n",
      "Requirement already satisfied: argon2-cffi>=21.1 in c:\\users\\belei\\appdata\\local\\programs\\python\\python311\\lib\\site-packages (from jupyter-server<3,>=2.4.0->jupyterlab->jupyter) (25.1.0)\n",
      "Requirement already satisfied: jupyter-events>=0.11.0 in c:\\users\\belei\\appdata\\local\\programs\\python\\python311\\lib\\site-packages (from jupyter-server<3,>=2.4.0->jupyterlab->jupyter) (0.12.0)\n",
      "Requirement already satisfied: jupyter-server-terminals>=0.4.4 in c:\\users\\belei\\appdata\\local\\programs\\python\\python311\\lib\\site-packages (from jupyter-server<3,>=2.4.0->jupyterlab->jupyter) (0.5.3)\n",
      "Requirement already satisfied: overrides>=5.0 in c:\\users\\belei\\appdata\\local\\programs\\python\\python311\\lib\\site-packages (from jupyter-server<3,>=2.4.0->jupyterlab->jupyter) (7.7.0)\n",
      "Requirement already satisfied: prometheus-client>=0.9 in c:\\users\\belei\\appdata\\local\\programs\\python\\python311\\lib\\site-packages (from jupyter-server<3,>=2.4.0->jupyterlab->jupyter) (0.22.1)\n",
      "Requirement already satisfied: pywinpty>=2.0.1 in c:\\users\\belei\\appdata\\local\\programs\\python\\python311\\lib\\site-packages (from jupyter-server<3,>=2.4.0->jupyterlab->jupyter) (3.0.0)\n",
      "Requirement already satisfied: send2trash>=1.8.2 in c:\\users\\belei\\appdata\\local\\programs\\python\\python311\\lib\\site-packages (from jupyter-server<3,>=2.4.0->jupyterlab->jupyter) (1.8.3)\n",
      "Requirement already satisfied: terminado>=0.8.3 in c:\\users\\belei\\appdata\\local\\programs\\python\\python311\\lib\\site-packages (from jupyter-server<3,>=2.4.0->jupyterlab->jupyter) (0.18.1)\n",
      "Requirement already satisfied: websocket-client>=1.7 in c:\\users\\belei\\appdata\\local\\programs\\python\\python311\\lib\\site-packages (from jupyter-server<3,>=2.4.0->jupyterlab->jupyter) (1.8.0)\n",
      "Requirement already satisfied: babel>=2.10 in c:\\users\\belei\\appdata\\local\\programs\\python\\python311\\lib\\site-packages (from jupyterlab-server<3,>=2.27.1->jupyterlab->jupyter) (2.17.0)\n",
      "Requirement already satisfied: json5>=0.9.0 in c:\\users\\belei\\appdata\\local\\programs\\python\\python311\\lib\\site-packages (from jupyterlab-server<3,>=2.27.1->jupyterlab->jupyter) (0.12.1)\n",
      "Requirement already satisfied: jsonschema>=4.18.0 in c:\\users\\belei\\appdata\\local\\programs\\python\\python311\\lib\\site-packages (from jupyterlab-server<3,>=2.27.1->jupyterlab->jupyter) (4.25.0)\n",
      "Requirement already satisfied: requests>=2.31 in c:\\users\\belei\\appdata\\local\\programs\\python\\python311\\lib\\site-packages (from jupyterlab-server<3,>=2.27.1->jupyterlab->jupyter) (2.32.4)\n",
      "Requirement already satisfied: fastjsonschema>=2.15 in c:\\users\\belei\\appdata\\local\\programs\\python\\python311\\lib\\site-packages (from nbformat>=5.7->nbconvert->jupyter) (2.21.2)\n",
      "Requirement already satisfied: wcwidth in c:\\users\\belei\\appdata\\roaming\\python\\python311\\site-packages (from prompt-toolkit>=3.0.30->jupyter-console->jupyter) (0.2.13)\n",
      "Requirement already satisfied: soupsieve>1.2 in c:\\users\\belei\\appdata\\local\\programs\\python\\python311\\lib\\site-packages (from beautifulsoup4->nbconvert->jupyter) (2.7)\n",
      "Requirement already satisfied: sniffio>=1.1 in c:\\users\\belei\\appdata\\local\\programs\\python\\python311\\lib\\site-packages (from anyio->httpx<1,>=0.25.0->jupyterlab->jupyter) (1.3.1)\n",
      "Requirement already satisfied: argon2-cffi-bindings in c:\\users\\belei\\appdata\\local\\programs\\python\\python311\\lib\\site-packages (from argon2-cffi>=21.1->jupyter-server<3,>=2.4.0->jupyterlab->jupyter) (25.1.0)\n",
      "Requirement already satisfied: parso<0.9.0,>=0.8.4 in c:\\users\\belei\\appdata\\roaming\\python\\python311\\site-packages (from jedi>=0.16->ipython>=7.23.1->ipykernel->jupyter) (0.8.4)\n",
      "Requirement already satisfied: attrs>=22.2.0 in c:\\users\\belei\\appdata\\local\\programs\\python\\python311\\lib\\site-packages (from jsonschema>=4.18.0->jupyterlab-server<3,>=2.27.1->jupyterlab->jupyter) (25.3.0)\n",
      "Requirement already satisfied: jsonschema-specifications>=2023.03.6 in c:\\users\\belei\\appdata\\local\\programs\\python\\python311\\lib\\site-packages (from jsonschema>=4.18.0->jupyterlab-server<3,>=2.27.1->jupyterlab->jupyter) (2025.4.1)\n",
      "Requirement already satisfied: referencing>=0.28.4 in c:\\users\\belei\\appdata\\local\\programs\\python\\python311\\lib\\site-packages (from jsonschema>=4.18.0->jupyterlab-server<3,>=2.27.1->jupyterlab->jupyter) (0.36.2)\n",
      "Requirement already satisfied: rpds-py>=0.7.1 in c:\\users\\belei\\appdata\\local\\programs\\python\\python311\\lib\\site-packages (from jsonschema>=4.18.0->jupyterlab-server<3,>=2.27.1->jupyterlab->jupyter) (0.27.0)\n",
      "Requirement already satisfied: python-json-logger>=2.0.4 in c:\\users\\belei\\appdata\\local\\programs\\python\\python311\\lib\\site-packages (from jupyter-events>=0.11.0->jupyter-server<3,>=2.4.0->jupyterlab->jupyter) (3.3.0)\n",
      "Requirement already satisfied: pyyaml>=5.3 in c:\\users\\belei\\appdata\\local\\programs\\python\\python311\\lib\\site-packages (from jupyter-events>=0.11.0->jupyter-server<3,>=2.4.0->jupyterlab->jupyter) (6.0.2)\n",
      "Requirement already satisfied: rfc3339-validator in c:\\users\\belei\\appdata\\local\\programs\\python\\python311\\lib\\site-packages (from jupyter-events>=0.11.0->jupyter-server<3,>=2.4.0->jupyterlab->jupyter) (0.1.4)\n",
      "Requirement already satisfied: rfc3986-validator>=0.1.1 in c:\\users\\belei\\appdata\\local\\programs\\python\\python311\\lib\\site-packages (from jupyter-events>=0.11.0->jupyter-server<3,>=2.4.0->jupyterlab->jupyter) (0.1.1)\n",
      "Requirement already satisfied: charset_normalizer<4,>=2 in c:\\users\\belei\\appdata\\local\\programs\\python\\python311\\lib\\site-packages (from requests>=2.31->jupyterlab-server<3,>=2.27.1->jupyterlab->jupyter) (3.4.3)\n",
      "Requirement already satisfied: urllib3<3,>=1.21.1 in c:\\users\\belei\\appdata\\local\\programs\\python\\python311\\lib\\site-packages (from requests>=2.31->jupyterlab-server<3,>=2.27.1->jupyterlab->jupyter) (2.5.0)\n",
      "Requirement already satisfied: executing>=1.2.0 in c:\\users\\belei\\appdata\\roaming\\python\\python311\\site-packages (from stack_data->ipython>=7.23.1->ipykernel->jupyter) (2.2.0)\n",
      "Requirement already satisfied: asttokens>=2.1.0 in c:\\users\\belei\\appdata\\roaming\\python\\python311\\site-packages (from stack_data->ipython>=7.23.1->ipykernel->jupyter) (3.0.0)\n",
      "Requirement already satisfied: pure-eval in c:\\users\\belei\\appdata\\roaming\\python\\python311\\site-packages (from stack_data->ipython>=7.23.1->ipykernel->jupyter) (0.2.3)\n",
      "Requirement already satisfied: fqdn in c:\\users\\belei\\appdata\\local\\programs\\python\\python311\\lib\\site-packages (from jsonschema[format-nongpl]>=4.18.0->jupyter-events>=0.11.0->jupyter-server<3,>=2.4.0->jupyterlab->jupyter) (1.5.1)\n",
      "Requirement already satisfied: isoduration in c:\\users\\belei\\appdata\\local\\programs\\python\\python311\\lib\\site-packages (from jsonschema[format-nongpl]>=4.18.0->jupyter-events>=0.11.0->jupyter-server<3,>=2.4.0->jupyterlab->jupyter) (20.11.0)\n",
      "Requirement already satisfied: jsonpointer>1.13 in c:\\users\\belei\\appdata\\local\\programs\\python\\python311\\lib\\site-packages (from jsonschema[format-nongpl]>=4.18.0->jupyter-events>=0.11.0->jupyter-server<3,>=2.4.0->jupyterlab->jupyter) (3.0.0)\n",
      "Requirement already satisfied: rfc3987-syntax>=1.1.0 in c:\\users\\belei\\appdata\\local\\programs\\python\\python311\\lib\\site-packages (from jsonschema[format-nongpl]>=4.18.0->jupyter-events>=0.11.0->jupyter-server<3,>=2.4.0->jupyterlab->jupyter) (1.1.0)\n",
      "Requirement already satisfied: uri-template in c:\\users\\belei\\appdata\\local\\programs\\python\\python311\\lib\\site-packages (from jsonschema[format-nongpl]>=4.18.0->jupyter-events>=0.11.0->jupyter-server<3,>=2.4.0->jupyterlab->jupyter) (1.3.0)\n",
      "Requirement already satisfied: webcolors>=24.6.0 in c:\\users\\belei\\appdata\\local\\programs\\python\\python311\\lib\\site-packages (from jsonschema[format-nongpl]>=4.18.0->jupyter-events>=0.11.0->jupyter-server<3,>=2.4.0->jupyterlab->jupyter) (24.11.1)\n",
      "Requirement already satisfied: cffi>=1.0.1 in c:\\users\\belei\\appdata\\local\\programs\\python\\python311\\lib\\site-packages (from argon2-cffi-bindings->argon2-cffi>=21.1->jupyter-server<3,>=2.4.0->jupyterlab->jupyter) (1.17.1)\n",
      "Requirement already satisfied: pycparser in c:\\users\\belei\\appdata\\local\\programs\\python\\python311\\lib\\site-packages (from cffi>=1.0.1->argon2-cffi-bindings->argon2-cffi>=21.1->jupyter-server<3,>=2.4.0->jupyterlab->jupyter) (2.22)\n",
      "Requirement already satisfied: lark>=1.2.2 in c:\\users\\belei\\appdata\\local\\programs\\python\\python311\\lib\\site-packages (from rfc3987-syntax>=1.1.0->jsonschema[format-nongpl]>=4.18.0->jupyter-events>=0.11.0->jupyter-server<3,>=2.4.0->jupyterlab->jupyter) (1.2.2)\n",
      "Requirement already satisfied: arrow>=0.15.0 in c:\\users\\belei\\appdata\\local\\programs\\python\\python311\\lib\\site-packages (from isoduration->jsonschema[format-nongpl]>=4.18.0->jupyter-events>=0.11.0->jupyter-server<3,>=2.4.0->jupyterlab->jupyter) (1.3.0)\n",
      "Requirement already satisfied: types-python-dateutil>=2.8.10 in c:\\users\\belei\\appdata\\local\\programs\\python\\python311\\lib\\site-packages (from arrow>=0.15.0->isoduration->jsonschema[format-nongpl]>=4.18.0->jupyter-events>=0.11.0->jupyter-server<3,>=2.4.0->jupyterlab->jupyter) (2.9.0.20250809)\n",
      "Note: you may need to restart the kernel to use updated packages.\n"
     ]
    },
    {
     "name": "stderr",
     "output_type": "stream",
     "text": [
      "\n",
      "[notice] A new release of pip is available: 24.0 -> 25.2\n",
      "[notice] To update, run: python.exe -m pip install --upgrade pip\n"
     ]
    }
   ],
   "source": [
    "pip install pandas numpy matplotlib seaborn pyspark==3.5.1 scikit-learn jupyter"
   ]
  },
  {
   "cell_type": "code",
   "execution_count": 1,
   "id": "5d7d91ad",
   "metadata": {},
   "outputs": [],
   "source": [
    "import pandas as pd\n",
    "import numpy as np\n",
    "from pyspark.sql import SparkSession\n",
    "from pyspark.sql.functions import *\n",
    "from pyspark.sql.types import *\n",
    "from pyspark.ml import Pipeline\n",
    "from pyspark.ml.feature import StringIndexer, VectorAssembler, RFormula, Bucketizer, StandardScaler, OneHotEncoder\n",
    "from pyspark.ml.classification import NaiveBayes\n",
    "from pyspark.ml.evaluation import MulticlassClassificationEvaluator\n",
    "from pyspark.ml.tuning import CrossValidator, ParamGridBuilder\n",
    "from pyspark.ml.stat import Correlation\n",
    "import matplotlib.pyplot as plt"
   ]
  },
  {
   "cell_type": "code",
   "execution_count": 2,
   "id": "0487f4bf",
   "metadata": {},
   "outputs": [],
   "source": [
    "spark = SparkSession.builder \\\n",
    "    .appName(\"EnhancedRentalPriceClassification\") \\\n",
    "    .config(\"spark.sql.adaptive.enabled\", \"true\") \\\n",
    "    .config(\"spark.sql.adaptive.coalescePartitions.enabled\", \"true\") \\\n",
    "    .config(\"spark.serializer\", \"org.apache.spark.serializer.KryoSerializer\") \\\n",
    "    .getOrCreate()"
   ]
  },
  {
   "cell_type": "code",
   "execution_count": 3,
   "id": "6d77cb08",
   "metadata": {},
   "outputs": [
    {
     "name": "stdout",
     "output_type": "stream",
     "text": [
      "Spark Version: 3.5.1\n"
     ]
    }
   ],
   "source": [
    "print(f\"Spark Version: {spark.version}\")"
   ]
  },
  {
   "cell_type": "code",
   "execution_count": 4,
   "id": "5ffc06be",
   "metadata": {},
   "outputs": [
    {
     "name": "stdout",
     "output_type": "stream",
     "text": [
      "+---+\n",
      "| id|\n",
      "+---+\n",
      "|  0|\n",
      "+---+\n",
      "\n"
     ]
    }
   ],
   "source": [
    "import os, sys\n",
    "os.environ[\"PYSPARK_PYTHON\"] = sys.executable\n",
    "os.environ[\"PYSPARK_DRIVER_PYTHON\"] = sys.executable\n",
    "\n",
    "from pyspark.sql import SparkSession\n",
    "spark = (SparkSession.builder\n",
    "         .master(\"local[*]\")\n",
    "         .config(\"spark.driver.bindAddress\",\"127.0.0.1\")\n",
    "         .config(\"spark.driver.host\",\"127.0.0.1\")\n",
    "         .getOrCreate())\n",
    "\n",
    "spark.range(1).show()"
   ]
  },
  {
   "cell_type": "code",
   "execution_count": 5,
   "id": "0ff88bd2",
   "metadata": {},
   "outputs": [
    {
     "name": "stdout",
     "output_type": "stream",
     "text": [
      "['id', 'category', 'title', 'body', 'amenities', 'bathrooms', 'bedrooms', 'currency', 'fee', 'has_photo', 'pets_allowed', 'price', 'price_display', 'price_type', 'square_feet', 'address', 'cityname', 'state', 'latitude', 'longitude', 'source', 'time']\n"
     ]
    }
   ],
   "source": [
    "from pyspark.sql import functions as F\n",
    "\n",
    "df_spark = (spark.read\n",
    "    .option(\"header\", True)\n",
    "    .option(\"inferSchema\", True)\n",
    "    .option(\"sep\", \";\")\n",
    "    .csv(\"apartments_for_rent_classified_100K.csv\"))\n",
    "\n",
    "#normalize headers (strip spaces, lowercase, replace whitespace with _)\n",
    "clean_cols = [c.strip().lower().replace(\" \", \"_\") for c in df_spark.columns]\n",
    "df_spark = df_spark.toDF(*clean_cols)\n",
    "\n",
    "print(df_spark.columns)  #check exact names"
   ]
  },
  {
   "cell_type": "code",
   "execution_count": 6,
   "id": "fe5990f2",
   "metadata": {},
   "outputs": [
    {
     "name": "stdout",
     "output_type": "stream",
     "text": [
      "DataFrame[id: bigint, category: string, title: string, body: string, amenities: string, bathrooms: string, bedrooms: string, currency: string, fee: string, has_photo: string, pets_allowed: string, price: string, price_display: string, price_type: string, square_feet: int, address: string, cityname: string, state: string, latitude: string, longitude: string, source: string, time: int]\n"
     ]
    }
   ],
   "source": [
    "print(df_spark)"
   ]
  },
  {
   "cell_type": "code",
   "execution_count": 7,
   "id": "eadee50b",
   "metadata": {},
   "outputs": [],
   "source": [
    "df_spark = df_spark.withColumn(\n",
    "    \"price_num\",\n",
    "    F.regexp_replace(F.col(\"price\"), r\"[^0-9\\.-]\", \"\").cast(\"double\")\n",
    ")"
   ]
  },
  {
   "cell_type": "code",
   "execution_count": 8,
   "id": "db786102",
   "metadata": {},
   "outputs": [
    {
     "name": "stdout",
     "output_type": "stream",
     "text": [
      "+-------+------------------+\n",
      "|summary|         price_num|\n",
      "+-------+------------------+\n",
      "|  count|             99992|\n",
      "|   mean|1527.1837646011681|\n",
      "| stddev| 903.2528606344935|\n",
      "|    min|             100.0|\n",
      "|    25%|            1014.0|\n",
      "|    50%|            1350.0|\n",
      "|    75%|            1795.0|\n",
      "|    max|           52500.0|\n",
      "+-------+------------------+\n",
      "\n",
      "\n",
      "=== DATA EXPLORATION ===\n",
      "root\n",
      " |-- id: long (nullable = true)\n",
      " |-- category: string (nullable = true)\n",
      " |-- title: string (nullable = true)\n",
      " |-- body: string (nullable = true)\n",
      " |-- amenities: string (nullable = true)\n",
      " |-- bathrooms: string (nullable = true)\n",
      " |-- bedrooms: string (nullable = true)\n",
      " |-- currency: string (nullable = true)\n",
      " |-- fee: string (nullable = true)\n",
      " |-- has_photo: string (nullable = true)\n",
      " |-- pets_allowed: string (nullable = true)\n",
      " |-- price: string (nullable = true)\n",
      " |-- price_display: string (nullable = true)\n",
      " |-- price_type: string (nullable = true)\n",
      " |-- square_feet: integer (nullable = true)\n",
      " |-- address: string (nullable = true)\n",
      " |-- cityname: string (nullable = true)\n",
      " |-- state: string (nullable = true)\n",
      " |-- latitude: string (nullable = true)\n",
      " |-- longitude: string (nullable = true)\n",
      " |-- source: string (nullable = true)\n",
      " |-- time: integer (nullable = true)\n",
      " |-- price_num: double (nullable = true)\n",
      "\n",
      "+---+--------+-----+----+---------+---------+--------+--------+---+---------+------------+-----+-------------+----------+-----------+-------+--------+-----+--------+---------+------+----+---------+\n",
      "| id|category|title|body|amenities|bathrooms|bedrooms|currency|fee|has_photo|pets_allowed|price|price_display|price_type|square_feet|address|cityname|state|latitude|longitude|source|time|price_num|\n",
      "+---+--------+-----+----+---------+---------+--------+--------+---+---------+------------+-----+-------------+----------+-----------+-------+--------+-----+--------+---------+------+----+---------+\n",
      "|  0|       0|    0|   0|        7|        7|       7|       7|  7|        7|           7|    7|            7|         7|          7|      7|       7|    7|       7|        7|     7|   7|        8|\n",
      "+---+--------+-----+----+---------+---------+--------+--------+---+---------+------------+-----+-------------+----------+-----------+-------+--------+-----+--------+---------+------+----+---------+\n",
      "\n"
     ]
    }
   ],
   "source": [
    "(df_spark\n",
    " .select(\"price_num\")\n",
    " .summary()\n",
    " .show())\n",
    "\n",
    "print(\"\\n=== DATA EXPLORATION ===\")\n",
    "df_spark.printSchema()\n",
    "\n",
    "#null counts\n",
    "df_spark.select([\n",
    "    F.count(F.when(F.col(c).isNull() | F.isnan(c), c)).alias(c) for c in df_spark.columns\n",
    "]).show()"
   ]
  },
  {
   "cell_type": "code",
   "execution_count": 9,
   "id": "c77527af",
   "metadata": {},
   "outputs": [
    {
     "name": "stdout",
     "output_type": "stream",
     "text": [
      "Train/test split...\n",
      "Training data: 80120 rows\n",
      "Test data: 19880 rows\n",
      "Train data: \n",
      "+----------+--------------------+--------------------+--------------------+--------------------+---------+--------+--------+---+---------+------------+-----+-------------+----------+-----------+-------+-----------+-----+--------+---------+------------+----------+---------+\n",
      "|        id|            category|               title|                body|           amenities|bathrooms|bedrooms|currency|fee|has_photo|pets_allowed|price|price_display|price_type|square_feet|address|   cityname|state|latitude|longitude|      source|      time|price_num|\n",
      "+----------+--------------------+--------------------+--------------------+--------------------+---------+--------+--------+---+---------+------------+-----+-------------+----------+-----------+-------+-----------+-----+--------+---------+------------+----------+---------+\n",
      "|5508654607|housing/rent/apar...|Be among the firs...|Our community of ...|Gym,Pool,Washer D...|        1|       1|     USD| No|Thumbnail|        null| 2669|       $2,669|   Monthly|        713|   null|Los Angeles|   CA| 34.0451|-118.2414|RentDigs.com|1568744007|   2669.0|\n",
      "|5508654638|housing/rent/apar...|One BR Apartment ...|South of the Jame...|Gym,Playground,Po...|        1|       1|     USD| No|Thumbnail|   Cats,Dogs|  990|         $990|   Monthly|        854|   null|   Richmond|   VA| 37.5173| -77.5044|RentDigs.com|1568744008|    990.0|\n",
      "|5508657700|housing/rent/apar...|Lovely Maumee, On...|Welcome to Valley...|AC,Cable or Satel...|        1|       1|     USD| No|Thumbnail|   Cats,Dogs|  615|         $615|   Monthly|        668|   null|     Maumee|   OH| 41.5781| -83.6642|RentDigs.com|1568744152|    615.0|\n",
      "|5508657770|housing/rent/apar...|Shreveport - supe...|Find the quality ...|AC,Cable or Satel...|        1|       1|     USD| No|Thumbnail|   Cats,Dogs|  700|         $700|   Monthly|        673|   null| Shreveport|   LA| 32.3841| -93.6685|RentDigs.com|1568744155|    700.0|\n",
      "|5508658740|housing/rent/apar...|Apartment in quie...|Welcome to Valley...|AC,Cable or Satel...|        1|       1|     USD| No|Thumbnail|   Cats,Dogs|  670|         $670|   Monthly|        759|   null|     Maumee|   OH| 41.5781| -83.6642|RentDigs.com|1568744210|    670.0|\n",
      "+----------+--------------------+--------------------+--------------------+--------------------+---------+--------+--------+---+---------+------------+-----+-------------+----------+-----------+-------+-----------+-----+--------+---------+------------+----------+---------+\n",
      "only showing top 5 rows\n",
      "\n",
      "\n",
      "\n",
      "Test data: \n",
      "+----------+--------------------+--------------------+--------------------+--------------------+---------+--------+--------+---+---------+------------+-----+-------------+----------+-----------+-------+-----------+-----+--------+---------+------------+----------+---------+\n",
      "|        id|            category|               title|                body|           amenities|bathrooms|bedrooms|currency|fee|has_photo|pets_allowed|price|price_display|price_type|square_feet|address|   cityname|state|latitude|longitude|      source|      time|price_num|\n",
      "+----------+--------------------+--------------------+--------------------+--------------------+---------+--------+--------+---+---------+------------+-----+-------------+----------+-----------+-------+-----------+-----+--------+---------+------------+----------+---------+\n",
      "|5508655790|housing/rent/apar...|Two BR Apartment ...|Square footage: 9...|Gym,Parking,Pool,...|        2|       2|     USD| No|Thumbnail|        null|  853|         $853|   Monthly|        967|   null|   Clemmons|   NC| 36.0325| -80.3960|RentDigs.com|1568744075|    853.0|\n",
      "|5508658972|housing/rent/apar...|Charming One BR, ...|For the best in S...|AC,Cable or Satel...|        1|       1|     USD| No|Thumbnail|   Cats,Dogs|  499|         $499|   Monthly|        400|   null| Shreveport|   LA| 32.3841| -93.6685|RentDigs.com|1568744227|    499.0|\n",
      "|5508665899|housing/rent/apar...|Apartment only fo...|Apartment for ren...|AC,Clubhouse,Dish...|        1|       2|     USD| No|Thumbnail|   Cats,Dogs| 1755|       $1,755|   Monthly|        511|   null|East Orange|   NJ| 40.7647| -74.2119|RentDigs.com|1568744683|   1755.0|\n",
      "|5508672306|housing/rent/apar...|Two BR \\ $2,124/m...|offers the sereni...|        Parking,Pool|        2|       2|     USD| No|Thumbnail|        null| 2124|       $2,124|   Monthly|        963|   null|  Las Vegas|   NV| 36.0198|-115.1504|RentDigs.com|1568744986|   2124.0|\n",
      "|5508677826|housing/rent/apar...|The Best of the B...|Presenting . prem...|             Parking|        1|       2|     USD| No|Thumbnail|        null|  847|         $847|   Monthly|        475|   null|  Bradenton|   FL| 27.4849| -82.5345|RentDigs.com|1568745265|    847.0|\n",
      "+----------+--------------------+--------------------+--------------------+--------------------+---------+--------+--------+---+---------+------------+-----+-------------+----------+-----------+-------+-----------+-----+--------+---------+------------+----------+---------+\n",
      "only showing top 5 rows\n",
      "\n"
     ]
    }
   ],
   "source": [
    "print(\"Train/test split...\")\n",
    "\n",
    "#split data (80-20)\n",
    "train_data, test_data = df_spark.randomSplit([0.8, 0.2], seed=42)\n",
    "\n",
    "print(f\"Training data: {train_data.count()} rows\")\n",
    "print(f\"Test data: {test_data.count()} rows\")\n",
    "\n",
    "print(\"Train data: \")\n",
    "train_data.show(5)\n",
    "\n",
    "print(\"\\n\\nTest data: \")\n",
    "test_data.show(5)"
   ]
  },
  {
   "cell_type": "code",
   "execution_count": 10,
   "id": "f9967935",
   "metadata": {},
   "outputs": [
    {
     "name": "stdout",
     "output_type": "stream",
     "text": [
      "\n",
      "=== Data Preparation ===\n",
      "Basic data cleaning...\n",
      "\n",
      "Creating engineered features with RFormula approach\n",
      "\n",
      "New features created successfully\n",
      "\n",
      "DataFrame[id: bigint, category: string, title: string, body: string, amenities: string, bathrooms: double, bedrooms: double, currency: string, fee: string, has_photo: string, pets_allowed: string, price: double, price_display: string, price_type: string, square_feet: double, address: string, cityname: string, state: string, latitude: double, longitude: double, source: string, time: int, price_num: double, price_per_sqft: double, total_rooms: double, location_score: double, room_density: double]\n",
      "Price per square feet: \n",
      "+------------------+\n",
      "|price_per_sqft    |\n",
      "+------------------+\n",
      "|4.049815498154982 |\n",
      "|0.8333333333333334|\n",
      "|0.8454545454545455|\n",
      "|1.951219512195122 |\n",
      "|1.5625            |\n",
      "+------------------+\n",
      "only showing top 5 rows\n",
      "\n",
      "Total rooms: \n",
      "+-----------+\n",
      "|total_rooms|\n",
      "+-----------+\n",
      "|2.0        |\n",
      "|4.5        |\n",
      "|5.0        |\n",
      "|3.0        |\n",
      "|2.0        |\n",
      "+-----------+\n",
      "only showing top 5 rows\n",
      "\n",
      "Location score: \n",
      "+------------------+\n",
      "|location_score    |\n",
      "+------------------+\n",
      "|152.2279          |\n",
      "|113.58080000000001|\n",
      "|114.4668          |\n",
      "|160.33339999999998|\n",
      "|141.7148          |\n",
      "+------------------+\n",
      "only showing top 5 rows\n",
      "\n",
      "Room density: \n",
      "+---------------------+\n",
      "|room_density         |\n",
      "+---------------------+\n",
      "|0.0036900369003690036|\n",
      "|0.003                |\n",
      "|0.0030303030303030303|\n",
      "|0.003658536585365854 |\n",
      "|0.003205128205128205 |\n",
      "+---------------------+\n",
      "only showing top 5 rows\n",
      "\n"
     ]
    }
   ],
   "source": [
    "#prepare the Data for Machine Learning Algorithms\n",
    "print(\"\\n=== Data Preparation ===\")\n",
    "\n",
    "#start with clean data\n",
    "print(\"Basic data cleaning...\")\n",
    "print()\n",
    "df_clean = df_spark.filter(col('price').isNotNull() & (col('price') > 0))\n",
    "\n",
    "#convert price to double to ensure it's numeric\n",
    "df_clean = df_clean.withColumn(\"price\", col(\"price\").cast(\"double\"))\n",
    "\n",
    "#fill missing values with safe defaults\n",
    "df_clean = df_clean.fillna({\n",
    "    'bedrooms': 1.0,\n",
    "    'bathrooms': 1.0,\n",
    "    'square_feet': 500.0,\n",
    "    'latitude': 0.0,\n",
    "    'longitude': 0.0,\n",
    "    'cityname': 'Unknown',\n",
    "    'state': 'Unknown',\n",
    "    'pets_allowed': 'Unknown',\n",
    "    'has_photo': 'No',\n",
    "    'source': 'Unknown'\n",
    "})\n",
    "\n",
    "#cast numeric columns to double\n",
    "numeric_cols = ['bedrooms', 'bathrooms', 'square_feet', 'latitude', 'longitude']\n",
    "for col_name in numeric_cols:\n",
    "    if col_name in df_clean.columns:\n",
    "        df_clean = df_clean.withColumn(col_name, col(col_name).cast(\"double\"))\n",
    "\n",
    "print(\"Creating engineered features with RFormula approach\")\n",
    "print()\n",
    "\n",
    "#safe feature engineering (avoiding division by zero)\n",
    "df_clean = df_clean.withColumn(\"price_per_sqft\",\n",
    "    when(col(\"square_feet\") > 0, col(\"price\") / col(\"square_feet\")).otherwise(0.0))\n",
    "\n",
    "df_clean = df_clean.withColumn(\"total_rooms\",\n",
    "    col(\"bedrooms\") + col(\"bathrooms\"))\n",
    "\n",
    "df_clean = df_clean.withColumn(\"location_score\",\n",
    "    abs(col(\"latitude\")) + abs(col(\"longitude\")))\n",
    "\n",
    "#room density feature\n",
    "df_clean = df_clean.withColumn(\"room_density\",\n",
    "    when(col(\"square_feet\") > 0, col(\"total_rooms\") / col(\"square_feet\")).otherwise(0.0))\n",
    "\n",
    "print(\"New features created successfully\")\n",
    "print()\n",
    "\n",
    "print(df_clean)\n",
    "\n",
    "print(\"Price per square feet: \")\n",
    "df_clean.select(\"price_per_sqft\").show(5, truncate=False)\n",
    "\n",
    "print(\"Total rooms: \")\n",
    "df_clean.select(\"total_rooms\").show(5, truncate=False)\n",
    "\n",
    "print(\"Location score: \")\n",
    "df_clean.select(\"location_score\").show(5, truncate=False)\n",
    "\n",
    "print(\"Room density: \")\n",
    "df_clean.select(\"room_density\").show(5, truncate=False)"
   ]
  },
  {
   "cell_type": "code",
   "execution_count": 11,
   "id": "9aa7fe8d",
   "metadata": {},
   "outputs": [
    {
     "name": "stdout",
     "output_type": "stream",
     "text": [
      "String indexing for categorical variables\n",
      "String indexers created.\n",
      "Feature selection...\n",
      "Selected features: ['bedrooms', 'bathrooms', 'square_feet', 'price_per_sqft', 'total_rooms', 'location_score', 'room_density', 'state_idx', 'has_photo_idx']\n"
     ]
    }
   ],
   "source": [
    "print(\"String indexing for categorical variables\")\n",
    "\n",
    "#string indexing for key categorical columns\n",
    "categorical_cols = ['state', 'has_photo']\n",
    "indexers = []\n",
    "indexed_cols = []\n",
    "\n",
    "for col_name in categorical_cols:\n",
    "    if col_name in df_clean.columns:\n",
    "        indexer = StringIndexer(\n",
    "            inputCol=col_name,\n",
    "            outputCol=f\"{col_name}_idx\",\n",
    "            handleInvalid=\"keep\"\n",
    "        )\n",
    "        indexers.append(indexer)\n",
    "        indexed_cols.append(f\"{col_name}_idx\")\n",
    "\n",
    "print(\"String indexers created.\")\n",
    "\n",
    "print(\"Feature selection...\")\n",
    "\n",
    "#selecting the reliable features\n",
    "final_features = [\n",
    "    'bedrooms', 'bathrooms', 'square_feet',\n",
    "    'price_per_sqft', 'total_rooms', 'location_score', 'room_density'\n",
    "] + indexed_cols\n",
    "\n",
    "print(f\"Selected features: {final_features}\")"
   ]
  },
  {
   "cell_type": "code",
   "execution_count": 12,
   "id": "60f8033a",
   "metadata": {},
   "outputs": [],
   "source": [
    "DF_READY    = df_clean\n",
    "FEATURES_COL = \"final_features\"\n",
    "LABEL_COL    = \"price_num\""
   ]
  },
  {
   "cell_type": "code",
   "execution_count": null,
   "id": "04516179",
   "metadata": {},
   "outputs": [
    {
     "name": "stdout",
     "output_type": "stream",
     "text": [
      "final_features: ['bedrooms', 'bathrooms', 'square_feet', 'price_per_sqft', 'total_rooms', 'location_score', 'room_density', 'state_idx', 'has_photo_idx']\n",
      "df_categorized columns: ['id', 'category', 'title', 'body', 'amenities', 'bathrooms', 'bedrooms', 'currency', 'fee', 'has_photo', 'pets_allowed', 'price', 'price_display', 'price_type', 'square_feet', 'address', 'cityname', 'state', 'latitude', 'longitude', 'source', 'time', 'price_num', 'price_per_sqft', 'total_rooms', 'location_score', 'room_density']\n",
      "MISSING features: ['state_idx', 'has_photo_idx']\n"
     ]
    }
   ],
   "source": [
    "from pyspark.sql.functions import col, isnan\n",
    "\n",
    "print(\"final_features:\", final_features)\n",
    "print(\"df_categorized columns:\", df_clean.columns)\n",
    "\n",
    "missing = [c for c in final_features if c not in df_clean.columns]\n",
    "print(\"MISSING features:\", missing)\n",
    "\n",
    "final_features = [c for c in final_features if c in df_clean.columns]"
   ]
  },
  {
   "cell_type": "code",
   "execution_count": 14,
   "id": "c71f493d",
   "metadata": {},
   "outputs": [],
   "source": [
    "from pyspark.ml import Pipeline\n",
    "\n",
    "idx_pipeline = Pipeline(stages=indexers)\n",
    "df_idx = idx_pipeline.fit(df_clean).transform(df_clean)\n",
    "\n",
    "df_feat_src = df_idx  "
   ]
  },
  {
   "cell_type": "code",
   "execution_count": 15,
   "id": "7ab26fe3",
   "metadata": {},
   "outputs": [],
   "source": [
    "from pyspark.sql import functions as F\n",
    "\n",
    "df_feat_src = df_feat_src.withColumn(\n",
    "    \"price_per_sqft\",\n",
    "    F.when((F.col(\"square_feet\").isNull()) | (F.col(\"square_feet\") <= 0), None)\n",
    "     .otherwise(F.col(\"price\") / F.col(\"square_feet\"))\n",
    ")\n",
    "\n",
    "bool_cols = [c for c in [\"has_photo\", \"pets_allowed\", \"fee\"] if c in df_feat_src.columns]\n",
    "for c in bool_cols:\n",
    "    df_feat_src = df_feat_src.withColumn(c, F.col(c).cast(\"double\"))"
   ]
  },
  {
   "cell_type": "markdown",
   "id": "4b8476ff",
   "metadata": {},
   "source": [
    "Impute remaining nulls in numeric features"
   ]
  },
  {
   "cell_type": "code",
   "execution_count": 16,
   "id": "8f4b4bd0",
   "metadata": {},
   "outputs": [],
   "source": [
    "from pyspark.ml.feature import Imputer\n",
    "\n",
    "num_feats = [c for c in final_features\n",
    "             if c in df_feat_src.columns\n",
    "             and dict(df_feat_src.dtypes)[c] in (\"double\",\"int\",\"bigint\",\"float\",\"smallint\",\"tinyint\")]\n",
    "\n",
    "imputer = Imputer(strategy=\"median\", inputCols=num_feats, outputCols=num_feats)\n",
    "df_feat_src = imputer.fit(df_feat_src).transform(df_feat_src)"
   ]
  },
  {
   "cell_type": "markdown",
   "id": "fd34dc3e",
   "metadata": {},
   "source": [
    "Assembling and resplitting"
   ]
  },
  {
   "cell_type": "code",
   "execution_count": 17,
   "id": "1fdcae4d",
   "metadata": {},
   "outputs": [
    {
     "name": "stdout",
     "output_type": "stream",
     "text": [
      "root\n",
      " |-- features: vector (nullable = true)\n",
      " |-- price_num: double (nullable = true)\n",
      "\n",
      "Train rows: 80113  Test rows: 19879\n"
     ]
    }
   ],
   "source": [
    "from pyspark.ml.feature import VectorAssembler\n",
    "\n",
    "assembler = VectorAssembler(inputCols=final_features, outputCol=\"features\")\n",
    "df_ready = assembler.transform(df_feat_src)\n",
    "\n",
    "label_col = \"price_num\" if \"price_num\" in df_ready.columns else \"price\"\n",
    "\n",
    "train_data, test_data = df_ready.select(\"features\", label_col).randomSplit([0.8, 0.2], seed=42)\n",
    "\n",
    "train_data.printSchema()\n",
    "print(\"Train rows:\", train_data.count(), \" Test rows:\", test_data.count())"
   ]
  },
  {
   "cell_type": "markdown",
   "id": "850695dc",
   "metadata": {},
   "source": [
    "Imports before creating Pipelines"
   ]
  },
  {
   "cell_type": "code",
   "execution_count": 18,
   "id": "9990956b",
   "metadata": {},
   "outputs": [],
   "source": [
    "from pyspark.ml import Pipeline\n",
    "from pyspark.ml.regression import LinearRegression, RandomForestRegressor, GBTRegressor\n",
    "from pyspark.ml.tuning import ParamGridBuilder, TrainValidationSplit\n",
    "from pyspark.ml.feature import StringIndexer, OneHotEncoder, Imputer, VectorAssembler, StandardScaler\n",
    "from pyspark.ml.regression import (\n",
    "    LinearRegression as SparkLR,\n",
    "    DecisionTreeRegressor\n",
    ")"
   ]
  },
  {
   "cell_type": "markdown",
   "id": "49e6b63e",
   "metadata": {},
   "source": [
    "## Pipelines creation"
   ]
  },
  {
   "cell_type": "code",
   "execution_count": 19,
   "id": "31cd3d03",
   "metadata": {},
   "outputs": [],
   "source": [
    "from pyspark.ml.feature import StringIndexer, OneHotEncoder, VectorAssembler, Imputer\n",
    "from pyspark.ml import Pipeline\n",
    "\n",
    "def make_preproc_stages(num_cols, cat_cols):\n",
    "    stages = []\n",
    "\n",
    "    # 1)impute numerics\n",
    "    if num_cols:\n",
    "        imputer = Imputer(strategy=\"median\", inputCols=num_cols, outputCols=num_cols)\n",
    "        stages.append(imputer)\n",
    "\n",
    "    # 2)index + OHE categoricals\n",
    "    idx_names = []\n",
    "    for c in cat_cols:\n",
    "        stages.append(StringIndexer(inputCol=c, outputCol=f\"{c}_idx\", handleInvalid=\"keep\"))\n",
    "        idx_names.append(f\"{c}_idx\")\n",
    "\n",
    "    if idx_names:\n",
    "        stages.append(\n",
    "            OneHotEncoder(\n",
    "                inputCols=idx_names,\n",
    "                outputCols=[f\"{c}_oh\" for c in cat_cols],\n",
    "                handleInvalid=\"keep\"\n",
    "            )\n",
    "        )\n",
    "        cat_feat_cols = [f\"{c}_oh\" for c in cat_cols]\n",
    "    else:\n",
    "        cat_feat_cols = []\n",
    "\n",
    "    # 3)assemble\n",
    "    feat_cols = num_cols + cat_feat_cols\n",
    "    stages.append(\n",
    "        VectorAssembler(inputCols=feat_cols, outputCol=\"features\", handleInvalid=\"keep\")\n",
    "    )\n",
    "\n",
    "    return stages"
   ]
  },
  {
   "cell_type": "code",
   "execution_count": 20,
   "id": "e0a6899a",
   "metadata": {},
   "outputs": [],
   "source": [
    "preproc_stages = make_preproc_stages(num_cols=numeric_cols, cat_cols=categorical_cols)"
   ]
  },
  {
   "cell_type": "code",
   "execution_count": 22,
   "id": "42b0eb86",
   "metadata": {},
   "outputs": [],
   "source": [
    "#linear Regression pipeline\n",
    "lr = LinearRegression(\n",
    "    featuresCol=\"features\",\n",
    "    labelCol=LABEL_COL,\n",
    "    predictionCol=\"prediction\",\n",
    "    standardization=True,\n",
    "    maxIter=100,\n",
    "    solver=\"auto\"\n",
    ")\n",
    "lr_pipe = Pipeline(stages=preproc_stages + [lr])"
   ]
  },
  {
   "cell_type": "code",
   "execution_count": 21,
   "id": "3998a085",
   "metadata": {},
   "outputs": [],
   "source": [
    "#decision Tree Regressor pipeline\n",
    "dtr = DecisionTreeRegressor(\n",
    "    featuresCol=\"features\",\n",
    "    labelCol=LABEL_COL,\n",
    "    predictionCol=\"prediction\",\n",
    "    seed=42\n",
    ")\n",
    "dtr_pipe = Pipeline(stages=preproc_stages + [dtr])"
   ]
  },
  {
   "cell_type": "code",
   "execution_count": 22,
   "id": "fdcf21ba",
   "metadata": {},
   "outputs": [],
   "source": [
    "train_data = train_data.withColumn(\"price_num\", col(\"price_num\").cast(\"double\"))\n",
    "test_data  = test_data.withColumn(\"price_num\",  col(\"price_num\").cast(\"double\"))"
   ]
  },
  {
   "cell_type": "markdown",
   "id": "69307bcf",
   "metadata": {},
   "source": [
    "## Linear Regression Model"
   ]
  },
  {
   "cell_type": "code",
   "execution_count": 25,
   "id": "0b680697",
   "metadata": {},
   "outputs": [],
   "source": [
    "from pyspark.ml.regression import LinearRegression\n",
    "\n",
    "LABEL_COL = \"price_num\"\n",
    "lr = LinearRegression(featuresCol=\"features\", labelCol=LABEL_COL, predictionCol=\"prediction\")\n",
    "\n",
    "lr_model = lr.fit(train_data)\n",
    "lr_pred  = lr_model.transform(test_data)"
   ]
  },
  {
   "cell_type": "code",
   "execution_count": 26,
   "id": "20774757",
   "metadata": {},
   "outputs": [],
   "source": [
    "lr = LinearRegression(\n",
    "    featuresCol=\"features\",\n",
    "    labelCol=\"price_num\",\n",
    "    predictionCol=\"prediction\",\n",
    "    standardization=True,\n",
    "    maxIter=100,\n",
    "    solver=\"auto\"\n",
    ")"
   ]
  },
  {
   "cell_type": "markdown",
   "id": "d7ab8717",
   "metadata": {},
   "source": [
    "Evaluation"
   ]
  },
  {
   "cell_type": "code",
   "execution_count": 29,
   "id": "362f1c13",
   "metadata": {},
   "outputs": [],
   "source": [
    "from pyspark.ml.regression import LinearRegression, DecisionTreeRegressor\n",
    "from pyspark.ml.evaluation import RegressionEvaluator\n",
    "\n",
    "rmse_eval = RegressionEvaluator(labelCol=\"price_num\", predictionCol=\"prediction\", metricName=\"rmse\")\n",
    "mae_eval  = RegressionEvaluator(labelCol=\"price_num\", predictionCol=\"prediction\", metricName=\"mae\")\n",
    "r2_eval   = RegressionEvaluator(labelCol=\"price_num\", predictionCol=\"prediction\", metricName=\"r2\")\n",
    "\n",
    "lr_rmse = rmse_eval.evaluate(lr_pred)\n",
    "lr_mae  = mae_eval.evaluate(lr_pred)\n",
    "lr_r2   = r2_eval.evaluate(lr_pred)"
   ]
  },
  {
   "cell_type": "code",
   "execution_count": 30,
   "id": "d82cb863",
   "metadata": {},
   "outputs": [
    {
     "name": "stdout",
     "output_type": "stream",
     "text": [
      "[LR Baseline] RMSE: 426.2983 | MAE: 167.8544 | R2: 0.7852\n"
     ]
    }
   ],
   "source": [
    "print(f\"[LR Baseline] RMSE: {lr_rmse:.4f} | MAE: {lr_mae:.4f} | R2: {lr_r2:.4f}\")"
   ]
  },
  {
   "cell_type": "code",
   "execution_count": 32,
   "id": "a6caf227",
   "metadata": {},
   "outputs": [
    {
     "data": {
      "image/png": "[encoded data removed]",
      "text/plain": [
       "<Figure size 600x600 with 1 Axes>"
      ]
     },
     "metadata": {},
     "output_type": "display_data"
    }
   ],
   "source": [
    "pdf = lr_pred.toPandas()\n",
    "\n",
    "plt.figure(figsize=(6,6))\n",
    "plt.scatter(pdf[LABEL_COL], pdf[\"prediction\"], alpha=0.5)\n",
    "plt.plot([pdf[LABEL_COL].min(), pdf[LABEL_COL].max()],\n",
    "         [pdf[LABEL_COL].min(), pdf[LABEL_COL].max()],\n",
    "         color=\"red\", linestyle=\"--\")\n",
    "plt.xlabel(\"Actual Price\")\n",
    "plt.ylabel(\"Predicted Price\")\n",
    "plt.title(\"Linear Regression: Actual vs Predicted\")\n",
    "plt.show()"
   ]
  },
  {
   "cell_type": "code",
   "execution_count": 33,
   "id": "bffd9ee8",
   "metadata": {},
   "outputs": [
    {
     "data": {
      "image/png": "[encoded data removed]",
      "text/plain": [
       "<Figure size 600x400 with 1 Axes>"
      ]
     },
     "metadata": {},
     "output_type": "display_data"
    }
   ],
   "source": [
    "pdf[\"residual\"] = pdf[LABEL_COL] - pdf[\"prediction\"]\n",
    "\n",
    "plt.figure(figsize=(6,4))\n",
    "plt.scatter(pdf[\"prediction\"], pdf[\"residual\"], alpha=0.5)\n",
    "plt.axhline(0, color=\"red\", linestyle=\"--\")\n",
    "plt.xlabel(\"Predicted Price\")\n",
    "plt.ylabel(\"Residual (Actual - Predicted)\")\n",
    "plt.title(\"Residuals vs Predicted\")\n",
    "plt.show()"
   ]
  },
  {
   "cell_type": "code",
   "execution_count": 34,
   "id": "ca0d10ba",
   "metadata": {},
   "outputs": [
    {
     "name": "stdout",
     "output_type": "stream",
     "text": [
      "Random sample index 19486:\n",
      "  Actual Price:    1,715.00\n",
      "  Predicted Price: 1,480.55\n",
      "  Error:           +234.45\n"
     ]
    }
   ],
   "source": [
    "import random\n",
    "\n",
    "idx = random.randint(0, len(pdf)-1)\n",
    "row = pdf.iloc[idx]\n",
    "\n",
    "print(f\"Random sample index {idx}:\")\n",
    "print(f\"  Actual Price:    {row[LABEL_COL]:,.2f}\")\n",
    "print(f\"  Predicted Price: {row['prediction']:,.2f}\")\n",
    "print(f\"  Error:           {row[LABEL_COL] - row['prediction']:+,.2f}\")"
   ]
  },
  {
   "cell_type": "markdown",
   "id": "226be103",
   "metadata": {},
   "source": [
    "## Fine-Tuning"
   ]
  },
  {
   "cell_type": "code",
   "execution_count": 35,
   "id": "1a12dc21",
   "metadata": {},
   "outputs": [],
   "source": [
    "from pyspark.ml.tuning import ParamGridBuilder, CrossValidator\n",
    "\n",
    "#cross validating\n",
    "lr_cv = CrossValidator(\n",
    "    estimator=lr,\n",
    "    estimatorParamMaps=ParamGridBuilder()\n",
    "        .addGrid(lr.regParam, [0.0, 0.01, 0.1, 0.3])\n",
    "        .addGrid(lr.elasticNetParam, [0.0, 0.5, 1.0])\n",
    "        .addGrid(lr.maxIter, [50, 100])\n",
    "        .build(),\n",
    "    evaluator=rmse_eval,\n",
    "    numFolds=3,\n",
    "    seed=42\n",
    ")"
   ]
  },
  {
   "cell_type": "code",
   "execution_count": 36,
   "id": "1f7201bc",
   "metadata": {},
   "outputs": [
    {
     "name": "stdout",
     "output_type": "stream",
     "text": [
      "Linear Regression Tuned:   RMSE: 426.2983 | MAE: 167.8544 | R2: 0.7852\n",
      "Best LR params: regParam=0.0, elasticNetParam=0.5, maxIter=50, fitIntercept=True, standardization=True\n"
     ]
    }
   ],
   "source": [
    "lr_cv_model = lr_cv.fit(train_data)\n",
    "lr_cv_pred  = lr_cv_model.transform(test_data)\n",
    "\n",
    "lr_cv_rmse = rmse_eval.evaluate(lr_cv_pred)\n",
    "lr_cv_mae  = mae_eval.evaluate(lr_cv_pred)\n",
    "lr_cv_r2   = r2_eval.evaluate(lr_cv_pred)\n",
    "\n",
    "print(f\"Linear Regression Tuned:   RMSE: {lr_cv_rmse:.4f} | MAE: {lr_cv_mae:.4f} | R2: {lr_cv_r2:.4f}\")\n",
    "\n",
    "best_lr = lr_cv_model.bestModel\n",
    "print(\"Best LR params:\",\n",
    "      f\"regParam={best_lr.getRegParam()},\",\n",
    "      f\"elasticNetParam={best_lr.getElasticNetParam()},\",\n",
    "      f\"maxIter={best_lr.getMaxIter()},\",\n",
    "      f\"fitIntercept={best_lr.getFitIntercept()},\",\n",
    "      f\"standardization={best_lr.getStandardization()}\")"
   ]
  },
  {
   "cell_type": "markdown",
   "id": "5d4f795b",
   "metadata": {},
   "source": [
    "## Decision Tree Model"
   ]
  },
  {
   "cell_type": "code",
   "execution_count": 23,
   "id": "ad884be0",
   "metadata": {},
   "outputs": [],
   "source": [
    "dtr = DecisionTreeRegressor(\n",
    "    featuresCol=\"features\",\n",
    "    labelCol=\"price_num\",\n",
    "    predictionCol=\"prediction\",\n",
    "    maxDepth=8,\n",
    "    maxBins=128,\n",
    "    seed=42\n",
    ")"
   ]
  },
  {
   "cell_type": "code",
   "execution_count": 24,
   "id": "d9040edb",
   "metadata": {},
   "outputs": [],
   "source": [
    "dtr_model = dtr.fit(train_data)\n",
    "dtr_pred  = dtr_model.transform(test_data)"
   ]
  },
  {
   "cell_type": "code",
   "execution_count": 25,
   "id": "a9c3d317",
   "metadata": {},
   "outputs": [
    {
     "name": "stdout",
     "output_type": "stream",
     "text": [
      "[DT Baseline] RMSE: 426.1910 | MAE: 82.7234 | R2: 0.7853\n",
      "\n",
      "Model Summary: \n",
      "Depth of tree: 8\n",
      "Number of nodes: 435\n"
     ]
    }
   ],
   "source": [
    "from pyspark.ml.evaluation import RegressionEvaluator\n",
    "\n",
    "#evaluate model\n",
    "rmse_eval = RegressionEvaluator(labelCol=\"price_num\", predictionCol=\"prediction\", metricName=\"rmse\")\n",
    "mae_eval  = RegressionEvaluator(labelCol=\"price_num\", predictionCol=\"prediction\", metricName=\"mae\")\n",
    "r2_eval   = RegressionEvaluator(labelCol=\"price_num\", predictionCol=\"prediction\", metricName=\"r2\")\n",
    "\n",
    "print(\"[DT Baseline] \"\n",
    "      f\"RMSE: {rmse_eval.evaluate(dtr_pred):.4f} | \"\n",
    "      f\"MAE: {mae_eval.evaluate(dtr_pred):.4f} | \"\n",
    "      f\"R2: {r2_eval.evaluate(dtr_pred):.4f}\")\n",
    "\n",
    "#model summary\n",
    "print()\n",
    "print(\"Model Summary: \")\n",
    "print(\"Depth of tree:\", dtr_model.depth)\n",
    "print(\"Number of nodes:\", dtr_model.numNodes)"
   ]
  },
  {
   "cell_type": "markdown",
   "id": "13d47a31",
   "metadata": {},
   "source": [
    "## Fine-Tuning"
   ]
  },
  {
   "cell_type": "code",
   "execution_count": 26,
   "id": "d1b16082",
   "metadata": {},
   "outputs": [],
   "source": [
    "dtr_grid = (ParamGridBuilder()\n",
    "            .addGrid(dtr.maxDepth, [6, 10])\n",
    "            .addGrid(dtr.maxBins, [64])\n",
    "            .addGrid(dtr.minInstancesPerNode, [1])\n",
    "            .addGrid(dtr.minInfoGain, [0.0, 0.001])\n",
    "            .build())\n",
    "\n",
    "dtr_cv = CrossValidator(\n",
    "    estimator=dtr,\n",
    "    estimatorParamMaps=dtr_grid,\n",
    "    evaluator=rmse_eval,\n",
    "    numFolds=2,\n",
    "    seed=42,\n",
    "    parallelism=1\n",
    ")"
   ]
  },
  {
   "cell_type": "code",
   "execution_count": 27,
   "id": "6e668fb3",
   "metadata": {},
   "outputs": [],
   "source": [
    "dtr_cv_model = dtr_cv.fit(train_data)"
   ]
  },
  {
   "cell_type": "code",
   "execution_count": 29,
   "id": "f06f6638",
   "metadata": {},
   "outputs": [
    {
     "name": "stdout",
     "output_type": "stream",
     "text": [
      "Decision Tree Tuned: RMSE: 290.5415 | MAE: 52.7000 | R2: 0.9002\n"
     ]
    }
   ],
   "source": [
    "dtr_cv_pred  = dtr_cv_model.transform(test_data)\n",
    "\n",
    "print(\"Decision Tree Tuned: \"\n",
    "      f\"RMSE: {rmse_eval.evaluate(dtr_cv_pred):.4f} | \"\n",
    "      f\"MAE: {mae_eval.evaluate(dtr_cv_pred):.4f} | \"\n",
    "      f\"R2: {r2_eval.evaluate(dtr_cv_pred):.4f}\")"
   ]
  },
  {
   "cell_type": "code",
   "execution_count": 30,
   "id": "5fff2023",
   "metadata": {},
   "outputs": [
    {
     "name": "stdout",
     "output_type": "stream",
     "text": [
      "Best DT params: maxDepth=10, maxBins=64, minInstancesPerNode=1, minInfoGain=0.0\n"
     ]
    }
   ],
   "source": [
    "#best params\n",
    "best_dtr = dtr_cv_model.bestModel\n",
    "print(\"Best DT params:\",\n",
    "      f\"maxDepth={best_dtr.getMaxDepth()},\",\n",
    "      f\"maxBins={best_dtr.getMaxBins()},\",\n",
    "      f\"minInstancesPerNode={best_dtr.getMinInstancesPerNode()},\",\n",
    "      f\"minInfoGain={best_dtr.getMinInfoGain()}\")"
   ]
  },
  {
   "cell_type": "markdown",
   "id": "44620157",
   "metadata": {},
   "source": [
    "## Naive Bayes Model"
   ]
  },
  {
   "cell_type": "code",
   "execution_count": 31,
   "id": "eb9ea7fb",
   "metadata": {},
   "outputs": [
    {
     "name": "stdout",
     "output_type": "stream",
     "text": [
      "['id', 'category', 'title', 'body', 'amenities', 'bathrooms', 'bedrooms', 'currency', 'fee', 'has_photo', 'pets_allowed', 'price', 'price_display', 'price_type', 'square_feet', 'address', 'cityname', 'state', 'latitude', 'longitude', 'source', 'time']\n"
     ]
    }
   ],
   "source": [
    "from pyspark.sql import functions as F\n",
    "\n",
    "df_spark = (spark.read\n",
    "    .option(\"header\", True)\n",
    "    .option(\"inferSchema\", True)\n",
    "    .option(\"sep\", \";\")\n",
    "    .csv(\"apartments_for_rent_classified_100K.csv\"))\n",
    "\n",
    "clean_cols = [c.strip().lower().replace(\" \", \"_\") for c in df_spark.columns]\n",
    "df_spark = df_spark.toDF(*clean_cols)\n",
    "\n",
    "print(df_spark.columns) "
   ]
  },
  {
   "cell_type": "code",
   "execution_count": 32,
   "id": "5475e18c",
   "metadata": {},
   "outputs": [],
   "source": [
    "train_data, test_data = df_clean.randomSplit([0.8, 0.2], seed=42)"
   ]
  },
  {
   "cell_type": "code",
   "execution_count": 33,
   "id": "38d2eef4",
   "metadata": {},
   "outputs": [
    {
     "name": "stdout",
     "output_type": "stream",
     "text": [
      "data cleaning\n",
      "\n",
      "Creating engineered features with RFormula approach\n",
      "\n",
      "New features created successfully\n",
      "\n",
      "Creating price categories for classification\n",
      "Price boundaries: [100.0, 1100.0, 1560.0, 52500.0]\n",
      "Price category distribution:\n",
      "+--------------+-----------+-----+\n",
      "|price_category|price_label|count|\n",
      "+--------------+-----------+-----+\n",
      "|           0.0|        Low|30863|\n",
      "|           1.0|     Medium|32936|\n",
      "|           2.0|       High|36193|\n",
      "+--------------+-----------+-----+\n",
      "\n"
     ]
    }
   ],
   "source": [
    "print(\"data cleaning\")\n",
    "print()\n",
    "df_clean = df_spark.filter(col('price').isNotNull() & (col('price') > 0))\n",
    "\n",
    "#convert price to double to ensure it's numeric\n",
    "df_clean = df_clean.withColumn(\"price\", col(\"price\").cast(\"double\"))\n",
    "\n",
    "#fill missing values with safe defaults\n",
    "df_clean = df_clean.fillna({\n",
    "    'bedrooms': 1.0,\n",
    "    'bathrooms': 1.0,\n",
    "    'square_feet': 500.0,\n",
    "    'latitude': 0.0,\n",
    "    'longitude': 0.0,\n",
    "    'cityname': 'Unknown',\n",
    "    'state': 'Unknown',\n",
    "    'pets_allowed': 'Unknown',\n",
    "    'has_photo': 'No',\n",
    "    'source': 'Unknown'\n",
    "})\n",
    "\n",
    "#cast numeric columns to double\n",
    "numeric_cols = ['bedrooms', 'bathrooms', 'square_feet', 'latitude', 'longitude']\n",
    "for col_name in numeric_cols:\n",
    "    if col_name in df_clean.columns:\n",
    "        df_clean = df_clean.withColumn(col_name, col(col_name).cast(\"double\"))\n",
    "\n",
    "print(\"Creating engineered features with RFormula approach\")\n",
    "print()\n",
    "\n",
    "#safe feature engineering (avoiding division by zero)\n",
    "df_clean = df_clean.withColumn(\"price_per_sqft\",\n",
    "    when(col(\"square_feet\") > 0, col(\"price\") / col(\"square_feet\")).otherwise(0.0))\n",
    "\n",
    "df_clean = df_clean.withColumn(\"total_rooms\",\n",
    "    col(\"bedrooms\") + col(\"bathrooms\"))\n",
    "\n",
    "df_clean = df_clean.withColumn(\"location_score\",\n",
    "    abs(col(\"latitude\")) + abs(col(\"longitude\")))\n",
    "\n",
    "#room density feature\n",
    "df_clean = df_clean.withColumn(\"room_density\",\n",
    "    when(col(\"square_feet\") > 0, col(\"total_rooms\") / col(\"square_feet\")).otherwise(0.0))\n",
    "\n",
    "print(\"New features created successfully\")\n",
    "print()\n",
    "\n",
    "print(\"Creating price categories for classification\")\n",
    "\n",
    "#create price categories using quantiles\n",
    "price_quantiles = df_clean.approxQuantile(\"price\", [0.0, 0.33, 0.67, 1.0], 0.05)\n",
    "print(f\"Price boundaries: {price_quantiles}\")\n",
    "\n",
    "#create bucketizer\n",
    "bucketizer = Bucketizer(\n",
    "    splits=price_quantiles,\n",
    "    inputCol=\"price\",\n",
    "    outputCol=\"price_category\"\n",
    ")\n",
    "\n",
    "train_data = bucketizer.transform(train_data)\n",
    "test_data  = bucketizer.transform(test_data)\n",
    "\n",
    "df_categorized = bucketizer.transform(df_clean)\n",
    "\n",
    "#add readable labels\n",
    "df_categorized = df_categorized.withColumn(\"price_label\",\n",
    "    when(col(\"price_category\") == 0.0, \"Low\")\n",
    "    .when(col(\"price_category\") == 1.0, \"Medium\")\n",
    "    .otherwise(\"High\")\n",
    ")\n",
    "\n",
    "print(\"Price category distribution:\")\n",
    "df_categorized.groupBy(\"price_category\", \"price_label\").count().orderBy(\"price_category\").show()"
   ]
  },
  {
   "cell_type": "code",
   "execution_count": 35,
   "id": "0372f75e",
   "metadata": {},
   "outputs": [],
   "source": [
    "stages = indexers + [\n",
    "    VectorAssembler(\n",
    "        inputCols=final_features,\n",
    "        outputCol=\"features\",\n",
    "        handleInvalid=\"skip\"\n",
    "    ),\n",
    "    NaiveBayes(\n",
    "        featuresCol=\"features\",\n",
    "        labelCol=\"price_category\",\n",
    "        smoothing=1.0\n",
    "    )\n",
    "]"
   ]
  },
  {
   "cell_type": "code",
   "execution_count": 36,
   "id": "028d98e8",
   "metadata": {},
   "outputs": [
    {
     "name": "stdout",
     "output_type": "stream",
     "text": [
      "Training Naive Bayes model...\n",
      "Model trained successfully!\n",
      "Making predictions on test data...\n",
      "Predictions completed!\n"
     ]
    }
   ],
   "source": [
    "pipeline = Pipeline(stages=stages)\n",
    "\n",
    "print(\"Training Naive Bayes model...\")\n",
    "try:\n",
    "    #train the model\n",
    "    nb_model = pipeline.fit(train_data)\n",
    "    print(\"Model trained successfully!\")\n",
    "\n",
    "    #make predictions\n",
    "    print(\"Making predictions on test data...\")\n",
    "    nb_predictions = nb_model.transform(test_data)\n",
    "    print(\"Predictions completed!\")\n",
    "\n",
    "except Exception as e:\n",
    "    print(f\" Training failed with error: {e}\")\n",
    "\n",
    "\n",
    "    print(\"Checking feature columns in training data:\")\n",
    "    for col_name in final_features:\n",
    "        if col_name in train_data.columns:\n",
    "            try:\n",
    "                null_count = train_data.filter(col(col_name).isNull()).count()\n",
    "                col_type = train_data.select(col_name).dtypes[0][1]\n",
    "                print(f\"   {col_name}: {col_type}, {null_count} nulls\")\n",
    "            except Exception as col_error:\n",
    "                print(f\"   {col_name}: Error - {col_error}\")\n",
    "        else:\n",
    "            print(f\"   {col_name}: MISSING COLUMN\")\n",
    "\n",
    "    print(\"Sample of training data:\")\n",
    "    present_feats = [c for c in final_features[:5] if c in train_data.columns]\n",
    "    cols_to_show = present_feats + ([\"price_category\"] if \"price_category\" in train_data.columns else [])\n",
    "\n",
    "    print(\"Showing:\", cols_to_show)\n",
    "    train_data.select(*cols_to_show).show(5, truncate=False)\n",
    "\n",
    "\n",
    "    print(\"Trying with minimal feature set...\")\n",
    "    minimal_features = ['bedrooms', 'bathrooms']\n",
    "\n",
    "    minimal_pipeline = Pipeline(stages=[\n",
    "        VectorAssembler(\n",
    "            inputCols=minimal_features,\n",
    "            outputCol=\"features\",\n",
    "            handleInvalid=\"skip\"\n",
    "        ),\n",
    "        NaiveBayes(\n",
    "            featuresCol=\"features\",\n",
    "            labelCol=\"price_category\",\n",
    "            smoothing=1.0\n",
    "        )\n",
    "    ])\n",
    "\n",
    "    try:\n",
    "        nb_model = minimal_pipeline.fit(train_data)\n",
    "        nb_predictions = nb_model.transform(test_data)\n",
    "        print(\" SUCCESS with minimal features!\")\n",
    "        final_features = minimal_features  #update for evaluation\n",
    "    except Exception as e2:\n",
    "        print(f\" Even minimal features failed: {e2}\")\n",
    "        raise"
   ]
  },
  {
   "cell_type": "code",
   "execution_count": 37,
   "id": "89067201",
   "metadata": {},
   "outputs": [
    {
     "name": "stdout",
     "output_type": "stream",
     "text": [
      "RMSE: 1.0545\n",
      "MAE: 0.7433\n",
      "R2: -0.6638\n"
     ]
    }
   ],
   "source": [
    "from pyspark.ml.evaluation import RegressionEvaluator, MulticlassClassificationEvaluator\n",
    "\n",
    "for metric in [\"rmse\", \"mae\", \"r2\"]:\n",
    "    ev = RegressionEvaluator(\n",
    "        labelCol=\"price_category\",\n",
    "        predictionCol=\"prediction\",\n",
    "        metricName=metric\n",
    "    )\n",
    "    val = ev.evaluate(nb_predictions)\n",
    "    print(f\"{metric.upper()}: {val:.4f}\")"
   ]
  },
  {
   "cell_type": "code",
   "execution_count": 38,
   "id": "85635e41",
   "metadata": {},
   "outputs": [
    {
     "name": "stdout",
     "output_type": "stream",
     "text": [
      "\n",
      "=== MODEL FINE-TUNING ===\n",
      "Fine-tuning model with cross-validation...\n",
      "Fine-tuning completed! Best smoothing: 0.1\n",
      "\n",
      "=== MODEL EVALUATION ===\n",
      "Evaluating model performance...\n",
      "\n",
      "=== MODEL PERFORMANCE COMPARISON ===\n",
      "--------------------------------------------------------------------------------\n",
      "Model           Accuracy     Precision    Recall       F1-Score    \n",
      "--------------------------------------------------------------------------------\n",
      "Original NB     0.4410       0.4282       0.4410       0.4177      \n",
      "Tuned NB        0.4410       0.4282       0.4410       0.4177      \n",
      "\n",
      "Best Model: Original Naive Bayes\n",
      "\n",
      "Best Accuracy: 0.4410 (44.10%)\n"
     ]
    }
   ],
   "source": [
    "##Fine-tune the Model (UPDATED SECTION)\n",
    "\n",
    "print(\"\\n=== MODEL FINE-TUNING ===\")\n",
    "\n",
    "#Create tuning pipeline\n",
    "nb_tuning = NaiveBayes(featuresCol=\"features\", labelCol=\"price_category\")\n",
    "tuning_stages = indexers + [\n",
    "    VectorAssembler(\n",
    "        inputCols=final_features,\n",
    "        outputCol=\"features\",\n",
    "        handleInvalid=\"skip\"\n",
    "    ),\n",
    "    nb_tuning\n",
    "]\n",
    "tuning_pipeline = Pipeline(stages=tuning_stages)\n",
    "\n",
    "#Parameter grid for smoothing\n",
    "paramGrid = ParamGridBuilder() \\\n",
    "    .addGrid(nb_tuning.smoothing, [0.1, 0.5, 1.0, 2.0, 5.0]) \\\n",
    "    .build()\n",
    "\n",
    "#Cross validator\n",
    "evaluator = MulticlassClassificationEvaluator(\n",
    "    labelCol=\"price_category\",\n",
    "    predictionCol=\"prediction\",\n",
    "    metricName=\"accuracy\"\n",
    ")\n",
    "\n",
    "crossval = CrossValidator(\n",
    "    estimator=tuning_pipeline,\n",
    "    estimatorParamMaps=paramGrid,\n",
    "    evaluator=evaluator,\n",
    "    numFolds=3\n",
    ")\n",
    "\n",
    "print(\"Fine-tuning model with cross-validation...\")\n",
    "try:\n",
    "    nb_tuned_model = crossval.fit(train_data)\n",
    "    nb_tuned_predictions = nb_tuned_model.transform(test_data)\n",
    "\n",
    "    best_smoothing = nb_tuned_model.bestModel.stages[-1].getSmoothing()\n",
    "    print(f\"Fine-tuning completed! Best smoothing: {best_smoothing}\")\n",
    "\n",
    "except Exception as e:\n",
    "    print(f\"Fine-tuning failed: {e}\")\n",
    "    print(\"Using original model for evaluation...\")\n",
    "    nb_tuned_predictions = nb_predictions\n",
    "    best_smoothing = 1.0\n",
    "\n",
    "#Evaluate the Model\n",
    "\n",
    "print(\"\\n=== MODEL EVALUATION ===\")\n",
    "\n",
    "#Create evaluators\n",
    "accuracy_evaluator = MulticlassClassificationEvaluator(\n",
    "    labelCol=\"price_category\", predictionCol=\"prediction\", metricName=\"accuracy\")\n",
    "precision_evaluator = MulticlassClassificationEvaluator(\n",
    "    labelCol=\"price_category\", predictionCol=\"prediction\", metricName=\"weightedPrecision\")\n",
    "recall_evaluator = MulticlassClassificationEvaluator(\n",
    "    labelCol=\"price_category\", predictionCol=\"prediction\", metricName=\"weightedRecall\")\n",
    "f1_evaluator = MulticlassClassificationEvaluator(\n",
    "    labelCol=\"price_category\", predictionCol=\"prediction\", metricName=\"f1\")\n",
    "\n",
    "#Evaluate models\n",
    "print(\"Evaluating model performance...\")\n",
    "\n",
    "#Original model\n",
    "nb_accuracy = accuracy_evaluator.evaluate(nb_predictions)\n",
    "nb_precision = precision_evaluator.evaluate(nb_predictions)\n",
    "nb_recall = recall_evaluator.evaluate(nb_predictions)\n",
    "nb_f1 = f1_evaluator.evaluate(nb_predictions)\n",
    "\n",
    "#Tuned model\n",
    "nb_tuned_accuracy = accuracy_evaluator.evaluate(nb_tuned_predictions)\n",
    "nb_tuned_precision = precision_evaluator.evaluate(nb_tuned_predictions)\n",
    "nb_tuned_recall = recall_evaluator.evaluate(nb_tuned_predictions)\n",
    "nb_tuned_f1 = f1_evaluator.evaluate(nb_tuned_predictions)\n",
    "\n",
    "#Display results\n",
    "print(\"\\n=== MODEL PERFORMANCE COMPARISON ===\")\n",
    "print(\"-\" * 80)\n",
    "print(f\"{'Model':<15} {'Accuracy':<12} {'Precision':<12} {'Recall':<12} {'F1-Score':<12}\")\n",
    "print(\"-\" * 80)\n",
    "print(f\"{'Original NB':<15} {nb_accuracy:<12.4f} {nb_precision:<12.4f} {nb_recall:<12.4f} {nb_f1:<12.4f}\")\n",
    "print(f\"{'Tuned NB':<15} {nb_tuned_accuracy:<12.4f} {nb_tuned_precision:<12.4f} {nb_tuned_recall:<12.4f} {nb_tuned_f1:<12.4f}\")\n",
    "\n",
    "#Determine best model\n",
    "if nb_tuned_accuracy > nb_accuracy:\n",
    "    best_model_name = \"Tuned Naive Bayes\"\n",
    "    best_predictions = nb_tuned_predictions\n",
    "    best_accuracy = nb_tuned_accuracy\n",
    "else:\n",
    "    best_model_name = \"Original Naive Bayes\"\n",
    "    best_predictions = nb_predictions\n",
    "    best_accuracy = nb_accuracy\n",
    "\n",
    "print(f\"\\nBest Model: {best_model_name}\")\n",
    "print(f\"\\nBest Accuracy: {best_accuracy:.4f} ({best_accuracy*100:.2f}%)\")\n"
   ]
  },
  {
   "cell_type": "code",
   "execution_count": 39,
   "id": "3b9022bb",
   "metadata": {},
   "outputs": [],
   "source": [
    "rmse_eval = RegressionEvaluator(labelCol=\"price_category\", predictionCol=\"prediction\", metricName=\"rmse\")\n",
    "mae_eval  = RegressionEvaluator(labelCol=\"price_category\", predictionCol=\"prediction\", metricName=\"mae\")\n",
    "r2_eval   = RegressionEvaluator(labelCol=\"price_category\", predictionCol=\"prediction\", metricName=\"r2\")\n",
    "\n",
    "nb_rmse = rmse_eval.evaluate(nb_predictions)\n",
    "nb_mae  = mae_eval.evaluate(nb_predictions)\n",
    "nb_r2   = r2_eval.evaluate(nb_predictions)\n",
    "\n",
    "nb_tuned_rmse = rmse_eval.evaluate(nb_tuned_predictions)\n",
    "nb_tuned_mae  = mae_eval.evaluate(nb_tuned_predictions)\n",
    "nb_tuned_r2   = r2_eval.evaluate(nb_tuned_predictions)"
   ]
  },
  {
   "cell_type": "code",
   "execution_count": 40,
   "id": "47bd62e3",
   "metadata": {},
   "outputs": [
    {
     "name": "stdout",
     "output_type": "stream",
     "text": [
      "--------------------------------------------------------------------------------\n",
      "Model           RMSE         MAE          R2          \n",
      "--------------------------------------------------------------------------------\n",
      "Original NB     1.0545       0.7433       -0.6638     \n",
      "Tuned NB        1.0545       0.7433       -0.6638     \n"
     ]
    }
   ],
   "source": [
    "print(\"-\" * 80)\n",
    "print(f\"{'Model':<15} {'RMSE':<12} {'MAE':<12} {'R2':<12}\")\n",
    "print(\"-\" * 80)\n",
    "print(f\"{'Original NB':<15} {nb_rmse:<12.4f} {nb_mae:<12.4f} {nb_r2:<12.4f}\")\n",
    "print(f\"{'Tuned NB':<15} {nb_tuned_rmse:<12.4f} {nb_tuned_mae:<12.4f} {nb_tuned_r2:<12.4f}\")"
   ]
  },
  {
   "cell_type": "markdown",
   "id": "6432cb3b",
   "metadata": {},
   "source": [
    "# Summary\n",
    "Fine-Tuned (Results are rounded up):\n",
    "\n",
    "Linear Regression RMSE is 426.3, MAE is 167.9 and R2 is 0.79, thus, this model performs decently.\n",
    "\n",
    "Decision Tree Regression RMSE is 290.5, MAE is 52.7 and R2 is 0.90 telling us that this model is the best overall, much lower errors and explains 90% of the differences.\n",
    "\n",
    "Naive Bayes RMSE is 1.05, MAE is 0.74 and R2 is -0.66, thus performs poorly between the three models.\n",
    "\n",
    "Therefore, Decsion Tree Regressor is the best at capturing patterns in the dataset while Linear Regression captures a decent amount and Naive Bayes does not work on continuous prices."
   ]
  }
 ],
 "metadata": {
  "kernelspec": {
   "display_name": "Python 3",
   "language": "python",
   "name": "python3"
  },
  "language_info": {
   "codemirror_mode": {
    "name": "ipython",
    "version": 3
   },
   "file_extension": ".py",
   "mimetype": "text/x-python",
   "name": "python",
   "nbconvert_exporter": "python",
   "pygments_lexer": "ipython3",
   "version": "3.11.9"
  }
 },
 "nbformat": 4,
 "nbformat_minor": 5
}
